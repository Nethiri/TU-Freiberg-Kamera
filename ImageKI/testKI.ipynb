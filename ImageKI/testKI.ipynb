{
 "cells": [
  {
   "cell_type": "code",
   "execution_count": 75,
   "metadata": {},
   "outputs": [],
   "source": [
    "#https://www.youtube.com/watch?v=wQ8BIBpya2k\r\n",
    "import tensorflow as tf\r\n",
    "import tensorflow_datasets as tfds\r\n",
    "myPath = \"E:\\OneDrive\\Programming\\TU-Freiberg-Kamera\\my_dataset\"\r\n",
    "\r\n",
    "mnist = tf.keras.datasets.mnist #28x28 images\r\n",
    "#"
   ]
  },
  {
   "cell_type": "code",
   "execution_count": 76,
   "metadata": {},
   "outputs": [
    {
     "name": "stdout",
     "output_type": "stream",
     "text": [
      "5\n"
     ]
    },
    {
     "data": {
      "image/png": "[encoded data removed]",
      "text/plain": [
       "<Figure size 432x288 with 1 Axes>"
      ]
     },
     "metadata": {
      "needs_background": "light"
     },
     "output_type": "display_data"
    }
   ],
   "source": [
    "from PIL import Image\r\n",
    "import numpy as np\r\n",
    "import matplotlib.pyplot as plt\r\n",
    "\r\n",
    "mnist = tf.keras.datasets.mnist #28x28 images\r\n",
    "(x_train, y_train), (x_test,y_test) = mnist.load_data()\r\n",
    "plt.imshow(x_train[0])\r\n",
    "#plt.imshow(x_test[0])\r\n",
    "print(y_train[0])"
   ]
  },
  {
   "cell_type": "code",
   "execution_count": 77,
   "metadata": {},
   "outputs": [],
   "source": [
    "import matplotlib.pyplot as plt\n",
    "#plt.imshow(x_train[0])\n",
    "#print(x_train[0])\n",
    "\n",
    "for x in x_train[0]:\n",
    "    pass\n",
    "    #print(x)\n"
   ]
  },
  {
   "cell_type": "code",
   "execution_count": 78,
   "metadata": {},
   "outputs": [
    {
     "name": "stdout",
     "output_type": "stream",
     "text": [
      "sys.version_info(major=3, minor=9, micro=6, releaselevel='final', serial=0)\n",
      "e:\\OneDrive\\Programming\\TU-Freiberg-Kamera\\ImageKI\n",
      "c:\\Users\\User\\.vscode\\extensions\\ms-toolsai.jupyter-2021.6.999662501\\pythonFiles\\vscode_datascience_helpers\n",
      "c:\\Users\\User\\.vscode\\extensions\\ms-toolsai.jupyter-2021.6.999662501\\pythonFiles\n",
      "c:\\Users\\User\\.vscode\\extensions\\ms-toolsai.jupyter-2021.6.999662501\\pythonFiles\\lib\\python\n",
      "F:\\Python3\\python39.zip\n",
      "F:\\Python3\\DLLs\n",
      "F:\\Python3\\lib\n",
      "F:\\Python3\n",
      "\n",
      "C:\\Users\\User\\AppData\\Roaming\\Python\\Python39\\site-packages\n",
      "C:\\Users\\User\\AppData\\Roaming\\Python\\Python39\\site-packages\\win32\n",
      "C:\\Users\\User\\AppData\\Roaming\\Python\\Python39\\site-packages\\win32\\lib\n",
      "C:\\Users\\User\\AppData\\Roaming\\Python\\Python39\\site-packages\\Pythonwin\n",
      "F:\\Python3\\lib\\site-packages\n",
      "C:\\Users\\User\\AppData\\Roaming\\Python\\Python39\\site-packages\\IPython\\extensions\n",
      "C:\\Users\\User\\.ipython\n"
     ]
    }
   ],
   "source": [
    "import sys\n",
    "print(sys.version_info)\n",
    "for p in sys.path:\n",
    "    print(p)\n",
    "\n"
   ]
  },
  {
   "cell_type": "markdown",
   "metadata": {},
   "source": [
    "Load Images from file into array\r\n",
    "\r\n",
    "First, some tests, after that, I've created a function which will allow me to fill both datasets"
   ]
  },
  {
   "cell_type": "code",
   "execution_count": 79,
   "metadata": {},
   "outputs": [],
   "source": [
    "from PIL import Image\r\n",
    "import numpy as np\r\n",
    "import matplotlib.pyplot as plt\r\n",
    "import tensorflow as tf\r\n",
    "\r\n",
    "\r\n",
    "dataImages = []\r\n",
    "solutionImages = []\r\n",
    "\r\n",
    "#myimage = Image.open(\"E:\\\\OneDrive\\\\Programming\\\\TU-Freiberg-Kamera\\\\SampleImages\\\\dataset\\\\image\\\\1.png\").convert(\"RGB\")\r\n",
    "\r\n",
    "#print(myimage.format)\r\n",
    "#print(myimage.size)\r\n",
    "#print(myimage.mode)\r\n",
    "\r\n",
    "#mydata = np.asarray(myimage)            #asarray(myimage)\r\n",
    "#mydata = tf.keras.utils.normalize(mydata, axis=1)\r\n",
    "##print(type(mydata)) # type of the array\r\n",
    "#print(mydata.shape) # how is the array constructed\r\n",
    "#print(mydata)       # array itself\r\n",
    "\r\n",
    "#print(mydata[0][0])\r\n",
    "#plt.imshow(mydata, cmap = plt.cm.binary)\r\n",
    "\r\n",
    "\r\n",
    "#plt.imshow(mydata)\r\n",
    "\r\n",
    "#plt.imshow(mydata, cmap=\"gray\", vmin=0, vmax=255)\r\n",
    "\r\n",
    "\r\n",
    "\r\n",
    "#print(\"Prints Brightness:\")\r\n",
    "#print(mydata[1][1]) # cordinate 1 | 1 -> gives RGB"
   ]
  },
  {
   "cell_type": "code",
   "execution_count": 80,
   "metadata": {},
   "outputs": [],
   "source": [
    "from PIL import Image\r\n",
    "import numpy as np\r\n",
    "import matplotlib.pyplot as plt\r\n",
    "import os\r\n",
    "\r\n",
    "def loadImagesInArray(path):\r\n",
    "    ret = []\r\n",
    "    for image in os.listdir(path): \r\n",
    "        temp = Image.open(path + image).convert(\"RGB\")\r\n",
    "        temp = np.asarray(temp)\r\n",
    "        temp = tf.keras.utils.normalize(temp, axis=1)\r\n",
    "        ret.append(temp)\r\n",
    "    return ret"
   ]
  },
  {
   "cell_type": "code",
   "execution_count": 81,
   "metadata": {},
   "outputs": [],
   "source": [
    "dataImages = loadImagesInArray(\"E:\\\\OneDrive\\\\Programming\\\\TU-Freiberg-Kamera\\\\SampleImages\\\\dataset\\\\image\\\\\")\r\n",
    "solutionImages = loadImagesInArray(\"E:\\\\OneDrive\\\\Programming\\\\TU-Freiberg-Kamera\\\\SampleImages\\\\dataset\\\\result\\\\\")\r\n",
    "\r\n",
    "#print(len(dataImages))\r\n",
    "#print(len(solutionImages))\r\n",
    "#plt.imshow(dataImages[0])\r\n",
    "#print(type(dataImages[0]))\r\n",
    "#print(dataImages[0])\r\n",
    "#dataImages[0] = tf.keras.utils.normalize(dataImages[0], axis=1)\r\n",
    "#solutionImages[0] = tf.keras.utils.normalize(solutionImages[0], axis=1)\r\n",
    "\r\n",
    "#model = tf.keras.models.Sequential()\r\n",
    "#model.add(tf.keras.layers.Flatten())\r\n",
    "#model.add(tf.keras.layers.Dense(512, activation=tf.nn.relu))\r\n",
    "#model.add(tf.keras.layers.Dense(512, activation=tf.nn.relu))\r\n",
    "#model.add(tf.keras.layers.Dense(2, activation=tf.nn.softmax))\r\n",
    "\r\n",
    "#model.compile(optimizer=\"adam\",\r\n",
    "#            loss=\"sparse_categorical_crossentropy\",\r\n",
    "#            metrics=[\"accuracy\"])\r\n",
    "#\r\n",
    "#model.fit(dataImages[0], solutionImages[0], epochs=3)\r\n"
   ]
  },
  {
   "cell_type": "code",
   "execution_count": null,
   "metadata": {},
   "outputs": [],
   "source": []
  }
 ],
 "metadata": {
  "interpreter": {
   "hash": "c8b08d2241c8157cc559a694afc7fe14d3ec73f4c204ededcfdcbff38dcf9d20"
  },
  "kernelspec": {
   "display_name": "Python 3.9.6 64-bit",
   "name": "python3"
  },
  "language_info": {
   "codemirror_mode": {
    "name": "ipython",
    "version": 3
   },
   "file_extension": ".py",
   "mimetype": "text/x-python",
   "name": "python",
   "nbconvert_exporter": "python",
   "pygments_lexer": "ipython3",
   "version": "3.9.6"
  },
  "orig_nbformat": 4
 },
 "nbformat": 4,
 "nbformat_minor": 2
}