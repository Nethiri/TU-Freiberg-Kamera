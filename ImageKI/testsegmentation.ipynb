{
 "cells": [
  {
   "cell_type": "code",
   "execution_count": 57,
   "metadata": {},
   "outputs": [],
   "source": [
    "from PIL import Image\r\n",
    "from tensorflow_examples.models.pix2pix import pix2pix\r\n",
    "from IPython.display import clear_output\r\n",
    "import numpy as np\r\n",
    "import matplotlib.pyplot as plt\r\n",
    "import tensorflow as tf\r\n",
    "import os\r\n",
    "import cv2\r\n",
    "import random\r\n",
    "\r\n",
    "SEED = 42"
   ]
  },
  {
   "cell_type": "code",
   "execution_count": 99,
   "metadata": {},
   "outputs": [],
   "source": [
    "dataset_path = \"E:\\\\OneDrive\\\\Programming\\\\TU-Freiberg-Kamera\\\\SampleImages\\\\dataset\\\\\"\r\n",
    "training_data = \"image\"\r\n",
    "val_data = \"result\""
   ]
  },
  {
   "cell_type": "code",
   "execution_count": 103,
   "metadata": {},
   "outputs": [],
   "source": [
    "gpus = tf.config.experimental.list_physical_devices('GPU')\r\n",
    "if gpus:\r\n",
    "    try:\r\n",
    "        for gpu in gpus:\r\n",
    "            tf.config.experimental.set_memory_growth(gpu, True)\r\n",
    "        logical_gpus = tf.config.experimental.list_logical_devices('GPU')\r\n",
    "        print(len(gpus), \"Physical GPUs,\", len(logical_gpus), \"Logical GPUs\")\r\n",
    "    except RuntimeError as e:\r\n",
    "        print(e)"
   ]
  },
  {
   "cell_type": "code",
   "execution_count": 100,
   "metadata": {},
   "outputs": [],
   "source": [
    "def parse_image(img_path: str, mask_path: str) -> dict: \r\n",
    "\r\n",
    "    image = tf.io.read_file(img_path)\r\n",
    "    image = tf.image.decode_png(image, channels=3)\r\n",
    "    image = tf.image.convert_image_dtype(image, tf.uint8)\r\n",
    "\r\n",
    "    maski = tf.io.read_file(mask_path)\r\n",
    "    maski = tf.image.decode_png(maski, channels=1)\r\n",
    "    maski = tf.where(maski == 255, np.dtype('uint8').type(0), maski)\r\n",
    "\r\n",
    "    return {'image': image, 'segmentationm_mask': maski}\r\n"
   ]
  },
  {
   "cell_type": "code",
   "execution_count": null,
   "metadata": {},
   "outputs": [],
   "source": [
    "IMG_SIZE = 128\r\n",
    "N_CHANNELS = 3\r\n",
    "N_CLASSES = 3"
   ]
  },
  {
   "cell_type": "code",
   "execution_count": null,
   "metadata": {},
   "outputs": [],
   "source": [
    "TRAINSET_SIZE = len(glob(dataset_path))"
   ]
  }
 ],
 "metadata": {
  "interpreter": {
   "hash": "c8b08d2241c8157cc559a694afc7fe14d3ec73f4c204ededcfdcbff38dcf9d20"
  },
  "kernelspec": {
   "display_name": "Python 3.9.6 64-bit",
   "name": "python3"
  },
  "language_info": {
   "codemirror_mode": {
    "name": "ipython",
    "version": 3
   },
   "file_extension": ".py",
   "mimetype": "text/x-python",
   "name": "python",
   "nbconvert_exporter": "python",
   "pygments_lexer": "ipython3",
   "version": "3.9.6"
  },
  "orig_nbformat": 4
 },
 "nbformat": 4,
 "nbformat_minor": 2
}